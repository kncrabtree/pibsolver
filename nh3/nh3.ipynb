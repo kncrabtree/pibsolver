{
 "cells": [
  {
   "cell_type": "code",
   "execution_count": null,
   "metadata": {},
   "outputs": [],
   "source": [
    "#comment out the following line if you do not have psi4. If you do so, you will need to download potential files and enter them manually\n",
    "%run nh3functions.py\n",
    "\n",
    "%run pibsolver-nh3.py\n",
    "\n",
    "pb =PIBSolver()"
   ]
  },
  {
   "cell_type": "code",
   "execution_count": null,
   "metadata": {},
   "outputs": [],
   "source": [
    "#modify the calcs and basis sets as needed\n",
    "#this cell uses psi4, so skip it if you commented out the nh3functions.py script up top\n",
    "calcs = ['hf','mp2','ccsd(t)']\n",
    "basis = ['6-31g','6-31g*','6-31g**']\n",
    "\n",
    "out = calc_all(calcs,basis)"
   ]
  },
  {
   "cell_type": "code",
   "execution_count": null,
   "metadata": {},
   "outputs": [],
   "source": [
    "#this cell loops over the outputs from the psi4 script, which contain the bond lengths, barrier heights, and names of the potential files\n",
    "#If you did not run psi4, you can create a list manually like:\n",
    "#out = [ (1.008, 5.003, 'nh3_scf_6-31gs_opt.txt'), (1.0112, 7.654, 'nh3_ccsd_cc-pVDZ_opt.txt') ]\n",
    "\n",
    "for (re, barrier, potfile) in out:\n",
    "    pb.re = re\n",
    "    pb.potfile = potfile\n",
    "    pb.calc()\n",
    "\n"
   ]
  },
  {
   "cell_type": "code",
   "execution_count": null,
   "metadata": {},
   "outputs": [],
   "source": []
  },
  {
   "cell_type": "code",
   "execution_count": null,
   "metadata": {},
   "outputs": [],
   "source": []
  }
 ],
 "metadata": {
  "kernelspec": {
   "display_name": "Python 3 (ipykernel)",
   "language": "python",
   "name": "python3"
  },
  "language_info": {
   "codemirror_mode": {
    "name": "ipython",
    "version": 3
   },
   "file_extension": ".py",
   "mimetype": "text/x-python",
   "name": "python",
   "nbconvert_exporter": "python",
   "pygments_lexer": "ipython3",
   "version": "3.8.12"
  }
 },
 "nbformat": 4,
 "nbformat_minor": 4
}
