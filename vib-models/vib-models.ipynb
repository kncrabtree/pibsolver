{
 "cells": [
  {
   "cell_type": "markdown",
   "metadata": {},
   "source": [
    "# Models for molecular vibration\n",
    "\n",
    "In this notebook you will use the PIBSolver defined in the \"pibsolver-vib-models.py\" script.\n",
    "\n",
    "This cell is a \"Markdown\" cell instead of a \"Code\" cell. This allows you to enter blocks of formatted text. If you double-click this text, you can see how to edit it. See [The Markdown Cheat Sheet](https://www.markdownguide.org/cheat-sheet/) for a quick intro to formatting text in Markdown. When you're done editing a markdown cell, hit Ctrl-Enter to \"run\" the cell and the text will be printed nicely.\n",
    "\n",
    "I'd recommend using Markdown cells like these to label your problems and to write your explanations of the answers. When you're finished, you can use `File > Export Notebook As > Export Notebook to HTML` to render this notebok as a webpage, then print that webpage as a PDF to submit on Canvas if you choose.\n",
    "\n",
    "## Getting started\n",
    "\n",
    "To get started, click in the first input cell below and hit Ctrl-Enter. This will execute the pibsolver-vib-models.py script. Once you run it, follow the instructions to create a PIBSolver object and start your first calculation."
   ]
  },
  {
   "cell_type": "code",
   "execution_count": null,
   "metadata": {},
   "outputs": [],
   "source": [
    "%run './pibsolver-vib-models.py'"
   ]
  }
 ],
 "metadata": {
  "kernelspec": {
   "display_name": "Python 3",
   "language": "python",
   "name": "python3"
  },
  "language_info": {
   "codemirror_mode": {
    "name": "ipython",
    "version": 3
   },
   "file_extension": ".py",
   "mimetype": "text/x-python",
   "name": "python",
   "nbconvert_exporter": "python",
   "pygments_lexer": "ipython3",
   "version": "3.6.12"
  }
 },
 "nbformat": 4,
 "nbformat_minor": 4
}
