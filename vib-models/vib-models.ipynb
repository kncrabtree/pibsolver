{
 "cells": [
  {
   "cell_type": "markdown",
   "metadata": {},
   "source": [
    "# Models for molecular vibration\n",
    "\n",
    "In this notebook you will use the PIBSolver defined in the \"pibsolver-vib-models.py\" script. It uses a basis set of particle in a box eigenfunctions to solve a 1D Schrodinger equation. The parameters for the calculation are intialized to a harmonic oscillator approximation for SO.\n",
    "\n",
    "## Getting started\n",
    "\n",
    "To get started, click in the first input cell below and hit Ctrl-Enter. This will execute the pibsolver-vib-models.py script. Once you run it, follow the instructions to create a PIBSolver object and start your first calculation. At any time you can run `pb = PIBSolver()` to return all variables to their default values.\n",
    "\n",
    "You can control the ranges of the plots with the `plotxmin`,`plotxmax`, etc parameters. Use these if you wish to explore the graphs in more detail. You may also set `plotevery` to a larger number, and then it will plot fewer eigenvalues. For instance, setting `plotevery` to 5 will plot only every 5th eigenvalue. You will not need to adjust `re`, `ngrid`, or `nbasis` in this problem. \n",
    "\n",
    "I recommend completing the entire problem and writing your answers in this notebook, and exporting it to HTML. "
   ]
  },
  {
   "cell_type": "code",
   "execution_count": null,
   "metadata": {},
   "outputs": [],
   "source": [
    "#if you are running this on Google Colab, uncomment this line if you get an ImportError for the tabulate package\n",
    "#!pip install tabulate\n",
    "\n",
    "%run './pibsolver-vib-models.py'"
   ]
  },
  {
   "cell_type": "code",
   "execution_count": null,
   "metadata": {},
   "outputs": [],
   "source": [
    "pb = PIBSolver()"
   ]
  },
  {
   "cell_type": "code",
   "execution_count": null,
   "metadata": {},
   "outputs": [],
   "source": [
    "pb.calc()"
   ]
  }
 ],
 "metadata": {
  "kernelspec": {
   "display_name": "Python 3 (ipykernel)",
   "language": "python",
   "name": "python3"
  },
  "language_info": {
   "codemirror_mode": {
    "name": "ipython",
    "version": 3
   },
   "file_extension": ".py",
   "mimetype": "text/x-python",
   "name": "python",
   "nbconvert_exporter": "python",
   "pygments_lexer": "ipython3",
   "version": "3.9.13"
  }
 },
 "nbformat": 4,
 "nbformat_minor": 4
}
